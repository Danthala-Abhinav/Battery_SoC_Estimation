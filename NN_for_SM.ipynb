{
  "nbformat": 4,
  "nbformat_minor": 0,
  "metadata": {
    "colab": {
      "name": "NN for SM.ipynb",
      "provenance": []
    },
    "kernelspec": {
      "name": "python3",
      "display_name": "Python 3"
    },
    "language_info": {
      "name": "python"
    },
    "accelerator": "GPU"
  },
  "cells": [
    {
      "cell_type": "code",
      "execution_count": 1,
      "metadata": {
        "id": "jqS29HoOuMQe",
        "colab": {
          "base_uri": "https://localhost:8080/"
        },
        "outputId": "6df2988f-8945-4cf9-a17f-089d3b0694cb"
      },
      "outputs": [
        {
          "output_type": "stream",
          "name": "stdout",
          "text": [
            "Mounted at /content/drive\n"
          ]
        }
      ],
      "source": [
        "from google.colab import drive\n",
        "drive.mount('/content/drive')"
      ]
    },
    {
      "cell_type": "code",
      "source": [
        "import numpy as np  \n",
        "import pandas as pd  \n",
        "from matplotlib import pyplot as plt \n",
        "import torch \n",
        "import torch.nn as nn\n",
        "import tensorflow as tf\n",
        "import time\n",
        "\n",
        "\n",
        "train_data_path ='/content/drive/My Drive/train.csv'\n",
        "train = pd.read_csv(train_data_path)\n",
        "\n",
        "num_of_train_data = train.shape[0]\n",
        "\n",
        "test_data_path ='/content/drive/My Drive/test.csv'\n",
        "test = pd.read_csv(test_data_path)\n",
        "\n",
        "num_of_test_data = test.shape[0]\n",
        "\n",
        "target = train[\"Capacity(State of Charge)\"] # capacity\n",
        "train.drop([\"Capacity(State of Charge)\"],axis = 1 , inplace = True) # drop target column\n",
        "\n",
        "# combine train and test\n",
        "val = test[\"Capacity(State of Charge)\"] # capacity\n",
        "test.drop([\"Capacity(State of Charge)\"],axis = 1 , inplace = True) # drop target column\n",
        "combined = train.append(test)\n",
        "combined.reset_index(inplace=True)\n",
        "combined.drop(['index'], inplace=True, axis=1)\n",
        "\n",
        "# train dataset features\n",
        "train_features = torch.tensor(combined[:num_of_train_data].values, dtype=torch.float)\n",
        "# target\n",
        "train_labels = torch.tensor(target.values, dtype=torch.float).view(-1, 1)\n",
        "\n",
        "#val_features = torch.tensor(combined[num_of_train_data:num_of_train_data+25].values, dtype=torch.float)\n",
        "#val_labels = torch.tensor(val[0:25].values, dtype=torch.float).view(-1, 1)\n",
        "\n",
        "\n",
        "test_features = torch.tensor(combined[num_of_train_data:].values, dtype=torch.float)\n",
        "test_true_value = torch.tensor(val.values, dtype=torch.float).view(-1, 1)\n",
        "\n",
        "\n",
        "print(\"train data size: \", train_features.shape)\n",
        "print(\"train label data size: \", train_labels.shape)\n",
        "#print(\"valid data size: \", val_features.shape)\n",
        "#print(\"valid label data size: \", val_labels.shape)\n",
        "print(\"test data size: \", test_features.shape)\n",
        "print(\"test label data size: \", test_true_value.shape)"
      ],
      "metadata": {
        "colab": {
          "base_uri": "https://localhost:8080/"
        },
        "id": "L050nZTqv3o0",
        "outputId": "04cfcc42-fb31-432c-a3af-40bd2755afa2"
      },
      "execution_count": 2,
      "outputs": [
        {
          "output_type": "stream",
          "name": "stdout",
          "text": [
            "train data size:  torch.Size([118, 6])\n",
            "train label data size:  torch.Size([118, 1])\n",
            "test data size:  torch.Size([50, 6])\n",
            "test label data size:  torch.Size([50, 1])\n"
          ]
        }
      ]
    },
    {
      "cell_type": "code",
      "source": [
        "model_sequential = nn.Sequential(\n",
        "          nn.Linear(train_features.shape[1], 128),\n",
        "          nn.ReLU(),\n",
        "          nn.Linear(128, 256),\n",
        "          nn.ReLU(),\n",
        "          nn.Linear(256, 256),\n",
        "          nn.ReLU(),\n",
        "          nn.Linear(256, 256),\n",
        "          nn.ReLU(),\n",
        "          nn.Linear(256, 1)\n",
        "        )\n",
        "\n",
        "class Net(nn.Module):\n",
        "  \n",
        "    def __init__(self, features):\n",
        "        super(Net, self).__init__()\n",
        "        \n",
        "        self.linear_relu1 = nn.Linear(features, 128)\n",
        "        self.linear_relu2 = nn.Linear(128, 256)\n",
        "        self.linear_relu3 = nn.Linear(256, 256)\n",
        "        self.linear_relu4 = nn.Linear(256, 256)\n",
        "        self.linear5 = nn.Linear(256, 1)\n",
        "        \n",
        "    def forward(self, x):\n",
        "        \n",
        "        y_pred = self.linear_relu1(x)\n",
        "        y_pred = nn.functional.relu(y_pred)\n",
        "\n",
        "        y_pred = self.linear_relu2(y_pred)\n",
        "        y_pred = nn.functional.relu(y_pred)\n",
        "\n",
        "        y_pred = self.linear_relu3(y_pred)\n",
        "        y_pred = nn.functional.relu(y_pred)\n",
        "\n",
        "        y_pred = self.linear_relu4(y_pred)\n",
        "        y_pred = nn.functional.relu(y_pred)\n",
        "\n",
        "        y_pred = self.linear5(y_pred)\n",
        "        return y_pred\n",
        "\n",
        "model = Net(features=train_features.shape[1])\n",
        "\n",
        "# loss function\n",
        "criterion = nn.MSELoss(reduction='mean')\n",
        "\n",
        "optimizer = torch.optim.Adam(model.parameters(), lr=1e-4)\n"
      ],
      "metadata": {
        "id": "p1TbMo9ozU0t"
      },
      "execution_count": 3,
      "outputs": []
    },
    {
      "cell_type": "code",
      "source": [
        "# train model\n",
        "epoch = 1000\n",
        "train_losses = []\n",
        "val_losses = []\n",
        "s_time = time.time()\n",
        "for t in range(epoch):\n",
        "    model.train()\n",
        "    y_pred = model(train_features)\n",
        "    \n",
        "    tr_loss = criterion(y_pred, train_labels)\n",
        "    train_losses.append(tr_loss.item())\n",
        "    \n",
        "    if torch.isnan(tr_loss):\n",
        "        break\n",
        "    \n",
        "    optimizer.zero_grad()\n",
        "    \n",
        "    # backward\n",
        "    tr_loss.backward()\n",
        "    optimizer.step()\n",
        "    \n",
        "    \"\"\"\n",
        "    model.eval()\n",
        "    with torch.no_grad():\n",
        "        val_pred = model(val_features)\n",
        "        val_loss = criterion(val_pred, val_labels)\n",
        "        # print(t, loss.item())\n",
        "        val_losses.append(val_loss.item())\n",
        "    \"\"\"\n",
        "\n",
        "    if t % 100 == 0:  \n",
        "        print(f\"Epoch: {t}, Train loss :{tr_loss:.3f}\") #, Val loss :{val_loss:.3f}\n",
        "c_time = time.time()\n",
        "ss_time = c_time - s_time \n",
        "print('%.3f秒'%ss_time)"
      ],
      "metadata": {
        "colab": {
          "base_uri": "https://localhost:8080/"
        },
        "id": "BBLWbE5M0aJw",
        "outputId": "c8542c89-b811-43b4-f3f3-2174e7273afd"
      },
      "execution_count": 4,
      "outputs": [
        {
          "output_type": "stream",
          "name": "stdout",
          "text": [
            "Epoch: 0, Train loss :2.556\n",
            "Epoch: 100, Train loss :0.049\n",
            "Epoch: 200, Train loss :0.021\n",
            "Epoch: 300, Train loss :0.014\n",
            "Epoch: 400, Train loss :0.010\n",
            "Epoch: 500, Train loss :0.005\n",
            "Epoch: 600, Train loss :0.002\n",
            "Epoch: 700, Train loss :0.001\n",
            "Epoch: 800, Train loss :0.000\n",
            "Epoch: 900, Train loss :0.000\n",
            "4.439秒\n"
          ]
        }
      ]
    },
    {
      "cell_type": "code",
      "source": [
        "plt.plot(np.arange(1000), train_losses)  \n",
        "#plt.plot(np.arange(1000), val_losses)\n",
        "plt.show()  \n",
        "\n",
        "plt.plot(np.arange(num_of_train_data), train_labels,\"-\",label = 'train') \n",
        "plt.plot(np.arange(num_of_train_data), y_pred.detach().numpy(),\".\",label = 'pred')  \n",
        "plt.legend() "
      ],
      "metadata": {
        "colab": {
          "base_uri": "https://localhost:8080/",
          "height": 531
        },
        "id": "wv5kEXzz0lg9",
        "outputId": "89b0d89e-9ccd-4ad0-83ad-e6c9ad6be017"
      },
      "execution_count": 7,
      "outputs": [
        {
          "output_type": "display_data",
          "data": {
            "text/plain": [
              "<Figure size 432x288 with 1 Axes>"
            ],
            "image/png": "[encoded data removed]"
          },
          "metadata": {
            "needs_background": "light"
          }
        },
        {
          "output_type": "execute_result",
          "data": {
            "text/plain": [
              "<matplotlib.legend.Legend at 0x7fdfa7e67610>"
            ]
          },
          "metadata": {},
          "execution_count": 7
        },
        {
          "output_type": "display_data",
          "data": {
            "text/plain": [
              "<Figure size 432x288 with 1 Axes>"
            ],
            "image/png": "[encoded data removed]"
          },
          "metadata": {
            "needs_background": "light"
          }
        }
      ]
    },
    {
      "cell_type": "code",
      "source": [
        "predictions = model(test_features).detach().numpy()\n",
        "plt.plot(np.arange(num_of_test_data), test_true_value,\"-\",label = 'test')  \n",
        "plt.plot(np.arange(num_of_test_data), predictions,\".\",label = 'pred') \n",
        "plt.legend()"
      ],
      "metadata": {
        "colab": {
          "base_uri": "https://localhost:8080/",
          "height": 283
        },
        "id": "kdTgIQ2R3jr2",
        "outputId": "53357b98-e62a-4a2d-9dea-64f3da379d2e"
      },
      "execution_count": 9,
      "outputs": [
        {
          "output_type": "execute_result",
          "data": {
            "text/plain": [
              "<matplotlib.legend.Legend at 0x7fdfa7d76ed0>"
            ]
          },
          "metadata": {},
          "execution_count": 9
        },
        {
          "output_type": "display_data",
          "data": {
            "text/plain": [
              "<Figure size 432x288 with 1 Axes>"
            ],
            "image/png": "[encoded data removed]"
          },
          "metadata": {
            "needs_background": "light"
          }
        }
      ]
    }
  ]
}